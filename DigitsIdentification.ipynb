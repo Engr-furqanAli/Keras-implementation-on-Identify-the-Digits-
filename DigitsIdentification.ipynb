{
  "nbformat": 4,
  "nbformat_minor": 0,
  "metadata": {
    "colab": {
      "provenance": []
    },
    "kernelspec": {
      "name": "python3",
      "display_name": "Python 3"
    },
    "language_info": {
      "name": "python"
    }
  },
  "cells": [
    {
      "cell_type": "code",
      "execution_count": 7,
      "metadata": {
        "colab": {
          "base_uri": "https://localhost:8080/"
        },
        "id": "y3FEcN1J5VDh",
        "outputId": "863bc686-b8ba-48b7-bec9-bfa1f948d424"
      },
      "outputs": [
        {
          "output_type": "stream",
          "name": "stdout",
          "text": [
            "Populating the interactive namespace from numpy and matplotlib\n"
          ]
        }
      ],
      "source": [
        "%pylab inline\n",
        "import os\n",
        "import numpy as np\n",
        "import pandas as pd\n",
        "import imageio.v2 as imageio\n",
        "from sklearn.metrics import accuracy_score\n",
        "\n",
        "import tensorflow as tf\n",
        "import keras"
      ]
    },
    {
      "cell_type": "code",
      "source": [
        "pip install imageio\n"
      ],
      "metadata": {
        "colab": {
          "base_uri": "https://localhost:8080/"
        },
        "id": "WjlJOGhV61j8",
        "outputId": "c8537b57-4c96-451a-a024-3ebce80a0b60"
      },
      "execution_count": 8,
      "outputs": [
        {
          "output_type": "stream",
          "name": "stdout",
          "text": [
            "Requirement already satisfied: imageio in /usr/local/lib/python3.12/dist-packages (2.37.0)\n",
            "Requirement already satisfied: numpy in /usr/local/lib/python3.12/dist-packages (from imageio) (2.0.2)\n",
            "Requirement already satisfied: pillow>=8.3.2 in /usr/local/lib/python3.12/dist-packages (from imageio) (11.3.0)\n"
          ]
        }
      ]
    },
    {
      "cell_type": "code",
      "source": [
        "#to stop pottential randomness\n",
        "seed = 128\n",
        "rng= np.random.RandomState(seed)\n"
      ],
      "metadata": {
        "id": "BGKx2l3y7f0d"
      },
      "execution_count": 9,
      "outputs": []
    },
    {
      "cell_type": "code",
      "source": [
        "#first step is to set dictionary path for safekeeping\n",
        "rootdir = os.path.abspath(\"./.\")\n",
        "data_dir = os.path.join(rootdir, \"data\")\n",
        "sub_dir = os.path.join(rootdir , \"sub\")\n",
        "\n"
      ],
      "metadata": {
        "id": "9O5wYGLq8H5U"
      },
      "execution_count": 10,
      "outputs": []
    },
    {
      "cell_type": "code",
      "source": [
        "#checking for existance\n",
        "os.path.exists(rootdir)\n",
        "os.path.exists(data_dir)\n",
        "os.path.exists(sub_dir)"
      ],
      "metadata": {
        "colab": {
          "base_uri": "https://localhost:8080/"
        },
        "id": "SE0M5SGp9DZV",
        "outputId": "79d94fd8-c980-47c5-db7a-e67eeb30e9c0"
      },
      "execution_count": 11,
      "outputs": [
        {
          "output_type": "execute_result",
          "data": {
            "text/plain": [
              "False"
            ]
          },
          "metadata": {},
          "execution_count": 11
        }
      ]
    },
    {
      "cell_type": "code",
      "source": [
        "#step 1 : data loading and preprocessing\n",
        "train = pd.read_csv(os.path.join(data_dir,  '/content/train.csv'))\n",
        "test = pd.read_csv(os.path.join(data_dir, '/content/test.csv'))"
      ],
      "metadata": {
        "id": "nH_rgJc__VZU"
      },
      "execution_count": 12,
      "outputs": []
    },
    {
      "cell_type": "code",
      "source": [
        "sample_submission = pd.read_csv(os.path.join(data_dir, '/content/sample_submission.csv'))"
      ],
      "metadata": {
        "id": "vrvBKwfLBVhn"
      },
      "execution_count": 13,
      "outputs": []
    },
    {
      "cell_type": "code",
      "source": [
        "import numpy as np\n",
        "import matplotlib.pyplot as plt\n",
        "\n",
        "# pick a random row\n",
        "sample = train.sample(1).iloc[0]\n",
        "label = sample['label']\n",
        "\n",
        "# reshape the 784 pixels into 28×28\n",
        "img = sample.drop('label').to_numpy().reshape(28, 28)\n",
        "\n",
        "# plot\n",
        "plt.imshow(img, cmap='gray')\n",
        "plt.title(f\"Label: {label}\")\n",
        "plt.axis('off')\n",
        "plt.show()\n"
      ],
      "metadata": {
        "colab": {
          "base_uri": "https://localhost:8080/",
          "height": 428
        },
        "id": "Tu55n0s2Biy9",
        "outputId": "e5439aff-ee46-49fc-a310-59f42909f3ec"
      },
      "execution_count": 15,
      "outputs": [
        {
          "output_type": "display_data",
          "data": {
            "text/plain": [
              "<Figure size 640x480 with 1 Axes>"
            ],
            "image/png": "[encoded data removed]"
          },
          "metadata": {}
        }
      ]
    },
    {
      "cell_type": "code",
      "source": [
        "import numpy as np\n",
        "from tensorflow.keras.utils import to_categorical\n",
        "\n",
        "# ----- Training set -----\n",
        "# Separate features and labels\n",
        "train_x = train.drop('label', axis=1).to_numpy(dtype='float32') / 255.0\n",
        "train_x = train_x.reshape(-1, 784)  # already flat but keeps shape explicit\n",
        "train_y = to_categorical(train['label'].to_numpy(), num_classes=10)\n",
        "\n",
        "# ----- Test set -----\n",
        "# If your test CSV has only pixel columns\n",
        "test_x = test.to_numpy(dtype='float32') / 255.0\n",
        "test_x = test_x.reshape(-1, 784)\n",
        "\n"
      ],
      "metadata": {
        "id": "Kr-qYIeHEAAj"
      },
      "execution_count": 16,
      "outputs": []
    },
    {
      "cell_type": "code",
      "source": [
        "split_size = int(train_x.shape[0]*0.7)\n",
        "\n",
        "train_x, val_x = train_x[:split_size], train_x[split_size:]\n",
        "train_y, val_y = train_y[:split_size], train_y[split_size:]\n",
        "train.label.iloc[split_size:]\n"
      ],
      "metadata": {
        "colab": {
          "base_uri": "https://localhost:8080/",
          "height": 458
        },
        "id": "eBM0sU5QI3v3",
        "outputId": "3e961a10-89bb-411f-b94f-7e6ddbd756f6"
      },
      "execution_count": 17,
      "outputs": [
        {
          "output_type": "execute_result",
          "data": {
            "text/plain": [
              "29399    1\n",
              "29400    3\n",
              "29401    2\n",
              "29402    7\n",
              "29403    6\n",
              "        ..\n",
              "41995    0\n",
              "41996    1\n",
              "41997    7\n",
              "41998    6\n",
              "41999    9\n",
              "Name: label, Length: 12601, dtype: int64"
            ],
            "text/html": [
              "<div>\n",
              "<style scoped>\n",
              "    .dataframe tbody tr th:only-of-type {\n",
              "        vertical-align: middle;\n",
              "    }\n",
              "\n",
              "    .dataframe tbody tr th {\n",
              "        vertical-align: top;\n",
              "    }\n",
              "\n",
              "    .dataframe thead th {\n",
              "        text-align: right;\n",
              "    }\n",
              "</style>\n",
              "<table border=\"1\" class=\"dataframe\">\n",
              "  <thead>\n",
              "    <tr style=\"text-align: right;\">\n",
              "      <th></th>\n",
              "      <th>label</th>\n",
              "    </tr>\n",
              "  </thead>\n",
              "  <tbody>\n",
              "    <tr>\n",
              "      <th>29399</th>\n",
              "      <td>1</td>\n",
              "    </tr>\n",
              "    <tr>\n",
              "      <th>29400</th>\n",
              "      <td>3</td>\n",
              "    </tr>\n",
              "    <tr>\n",
              "      <th>29401</th>\n",
              "      <td>2</td>\n",
              "    </tr>\n",
              "    <tr>\n",
              "      <th>29402</th>\n",
              "      <td>7</td>\n",
              "    </tr>\n",
              "    <tr>\n",
              "      <th>29403</th>\n",
              "      <td>6</td>\n",
              "    </tr>\n",
              "    <tr>\n",
              "      <th>...</th>\n",
              "      <td>...</td>\n",
              "    </tr>\n",
              "    <tr>\n",
              "      <th>41995</th>\n",
              "      <td>0</td>\n",
              "    </tr>\n",
              "    <tr>\n",
              "      <th>41996</th>\n",
              "      <td>1</td>\n",
              "    </tr>\n",
              "    <tr>\n",
              "      <th>41997</th>\n",
              "      <td>7</td>\n",
              "    </tr>\n",
              "    <tr>\n",
              "      <th>41998</th>\n",
              "      <td>6</td>\n",
              "    </tr>\n",
              "    <tr>\n",
              "      <th>41999</th>\n",
              "      <td>9</td>\n",
              "    </tr>\n",
              "  </tbody>\n",
              "</table>\n",
              "<p>12601 rows × 1 columns</p>\n",
              "</div><br><label><b>dtype:</b> int64</label>"
            ]
          },
          "metadata": {},
          "execution_count": 17
        }
      ]
    },
    {
      "cell_type": "code",
      "source": [
        "#STEP 2: Model Building"
      ],
      "metadata": {
        "id": "hsd3BOg0JYAl"
      },
      "execution_count": 28,
      "outputs": []
    },
    {
      "cell_type": "code",
      "source": [
        "# define variables\n",
        "input_num_units  = 784\n",
        "hidden1_num_units = 500\n",
        "hidden2_num_units = 500\n",
        "hidden3_num_units = 500\n",
        "hidden4_num_units = 500\n",
        "hidden5_num_units = 500\n",
        "output_num_units = 10\n",
        "\n",
        "epochs = 15\n",
        "batch_size = 128\n",
        "from keras.layers import Dropout\n",
        "dropout_ratio = 0.2\n",
        "\n",
        "from keras.models import Sequential\n",
        "from keras.layers import Dense\n",
        "\n",
        "# create model with 5 hidden layers\n",
        "model = Sequential([\n",
        "    Dense(units=hidden1_num_units, input_dim=input_num_units, activation='relu'),\n",
        "    Dropout(dropout_ratio),\n",
        "    Dense(units=hidden2_num_units, activation='relu'),\n",
        "    Dropout(dropout_ratio),\n",
        "    Dense(units=hidden3_num_units, activation='relu'),\n",
        "    Dropout(dropout_ratio),\n",
        "    Dense(units=hidden4_num_units, activation='relu'),\n",
        "    Dropout(dropout_ratio),\n",
        "    Dense(units=hidden5_num_units, activation='relu'),\n",
        "    Dropout(dropout_ratio),\n",
        "    Dense(units=output_num_units, activation='softmax')\n",
        "])\n",
        "\n",
        "# compile the model\n",
        "model.compile(optimizer=\"adam\",\n",
        "              loss='categorical_crossentropy',\n",
        "              metrics=['accuracy'])\n"
      ],
      "metadata": {
        "id": "JKBM11EhJZrZ"
      },
      "execution_count": 35,
      "outputs": []
    },
    {
      "cell_type": "code",
      "source": [
        "#time to train the model\n",
        "trained_model = model.fit(train_x ,  train_y , epochs= epochs , batch_size =batch_size , validation_data= (val_x,val_y))"
      ],
      "metadata": {
        "colab": {
          "base_uri": "https://localhost:8080/"
        },
        "id": "l6UtmpYL2vko",
        "outputId": "c1f82c7c-0374-493c-e32e-f2b770b131e2"
      },
      "execution_count": 36,
      "outputs": [
        {
          "output_type": "stream",
          "name": "stdout",
          "text": [
            "Epoch 1/15\n",
            "\u001b[1m230/230\u001b[0m \u001b[32m━━━━━━━━━━━━━━━━━━━━\u001b[0m\u001b[37m\u001b[0m \u001b[1m13s\u001b[0m 41ms/step - accuracy: 0.7434 - loss: 0.7541 - val_accuracy: 0.9512 - val_loss: 0.1572\n",
            "Epoch 2/15\n",
            "\u001b[1m230/230\u001b[0m \u001b[32m━━━━━━━━━━━━━━━━━━━━\u001b[0m\u001b[37m\u001b[0m \u001b[1m11s\u001b[0m 43ms/step - accuracy: 0.9475 - loss: 0.1770 - val_accuracy: 0.9549 - val_loss: 0.1618\n",
            "Epoch 3/15\n",
            "\u001b[1m230/230\u001b[0m \u001b[32m━━━━━━━━━━━━━━━━━━━━\u001b[0m\u001b[37m\u001b[0m \u001b[1m11s\u001b[0m 46ms/step - accuracy: 0.9614 - loss: 0.1298 - val_accuracy: 0.9637 - val_loss: 0.1208\n",
            "Epoch 4/15\n",
            "\u001b[1m230/230\u001b[0m \u001b[32m━━━━━━━━━━━━━━━━━━━━\u001b[0m\u001b[37m\u001b[0m \u001b[1m11s\u001b[0m 47ms/step - accuracy: 0.9722 - loss: 0.0954 - val_accuracy: 0.9665 - val_loss: 0.1161\n",
            "Epoch 5/15\n",
            "\u001b[1m230/230\u001b[0m \u001b[32m━━━━━━━━━━━━━━━━━━━━\u001b[0m\u001b[37m\u001b[0m \u001b[1m11s\u001b[0m 46ms/step - accuracy: 0.9748 - loss: 0.0845 - val_accuracy: 0.9681 - val_loss: 0.1148\n",
            "Epoch 6/15\n",
            "\u001b[1m230/230\u001b[0m \u001b[32m━━━━━━━━━━━━━━━━━━━━\u001b[0m\u001b[37m\u001b[0m \u001b[1m9s\u001b[0m 41ms/step - accuracy: 0.9779 - loss: 0.0720 - val_accuracy: 0.9744 - val_loss: 0.1005\n",
            "Epoch 7/15\n",
            "\u001b[1m230/230\u001b[0m \u001b[32m━━━━━━━━━━━━━━━━━━━━\u001b[0m\u001b[37m\u001b[0m \u001b[1m11s\u001b[0m 43ms/step - accuracy: 0.9823 - loss: 0.0603 - val_accuracy: 0.9733 - val_loss: 0.1069\n",
            "Epoch 8/15\n",
            "\u001b[1m230/230\u001b[0m \u001b[32m━━━━━━━━━━━━━━━━━━━━\u001b[0m\u001b[37m\u001b[0m \u001b[1m11s\u001b[0m 47ms/step - accuracy: 0.9829 - loss: 0.0535 - val_accuracy: 0.9719 - val_loss: 0.1145\n",
            "Epoch 9/15\n",
            "\u001b[1m230/230\u001b[0m \u001b[32m━━━━━━━━━━━━━━━━━━━━\u001b[0m\u001b[37m\u001b[0m \u001b[1m21s\u001b[0m 47ms/step - accuracy: 0.9855 - loss: 0.0494 - val_accuracy: 0.9758 - val_loss: 0.1018\n",
            "Epoch 10/15\n",
            "\u001b[1m230/230\u001b[0m \u001b[32m━━━━━━━━━━━━━━━━━━━━\u001b[0m\u001b[37m\u001b[0m \u001b[1m11s\u001b[0m 47ms/step - accuracy: 0.9890 - loss: 0.0365 - val_accuracy: 0.9743 - val_loss: 0.1112\n",
            "Epoch 11/15\n",
            "\u001b[1m230/230\u001b[0m \u001b[32m━━━━━━━━━━━━━━━━━━━━\u001b[0m\u001b[37m\u001b[0m \u001b[1m20s\u001b[0m 46ms/step - accuracy: 0.9893 - loss: 0.0370 - val_accuracy: 0.9761 - val_loss: 0.1247\n",
            "Epoch 12/15\n",
            "\u001b[1m230/230\u001b[0m \u001b[32m━━━━━━━━━━━━━━━━━━━━\u001b[0m\u001b[37m\u001b[0m \u001b[1m20s\u001b[0m 45ms/step - accuracy: 0.9875 - loss: 0.0419 - val_accuracy: 0.9748 - val_loss: 0.1124\n",
            "Epoch 13/15\n",
            "\u001b[1m230/230\u001b[0m \u001b[32m━━━━━━━━━━━━━━━━━━━━\u001b[0m\u001b[37m\u001b[0m \u001b[1m20s\u001b[0m 41ms/step - accuracy: 0.9902 - loss: 0.0331 - val_accuracy: 0.9768 - val_loss: 0.1083\n",
            "Epoch 14/15\n",
            "\u001b[1m230/230\u001b[0m \u001b[32m━━━━━━━━━━━━━━━━━━━━\u001b[0m\u001b[37m\u001b[0m \u001b[1m11s\u001b[0m 43ms/step - accuracy: 0.9888 - loss: 0.0374 - val_accuracy: 0.9770 - val_loss: 0.1063\n",
            "Epoch 15/15\n",
            "\u001b[1m230/230\u001b[0m \u001b[32m━━━━━━━━━━━━━━━━━━━━\u001b[0m\u001b[37m\u001b[0m \u001b[1m11s\u001b[0m 47ms/step - accuracy: 0.9919 - loss: 0.0274 - val_accuracy: 0.9770 - val_loss: 0.1116\n"
          ]
        }
      ]
    },
    {
      "cell_type": "code",
      "source": [
        "# Now here begans the tricky step \" model evolution\"\n",
        "\n",
        "# pick a random index from the test set\n",
        "idx = np.random.randint(0, test_x.shape[0])\n",
        "\n",
        "# get the corresponding image data\n",
        "img = test_x[idx].reshape(28, 28)   # 28x28 because 784 pixels\n",
        "\n",
        "# predict the digit\n",
        "pred_class = np.argmax(model.predict(test_x[idx].reshape(1, 784)), axis=1)[0]\n",
        "\n",
        "print(\"Prediction is:\", pred_class)\n",
        "\n",
        "# show the image\n",
        "plt.imshow(img, cmap='gray')\n",
        "plt.axis('off')\n",
        "plt.show()"
      ],
      "metadata": {
        "colab": {
          "base_uri": "https://localhost:8080/",
          "height": 441
        },
        "id": "WHHq7stt4Lrg",
        "outputId": "98e1659a-ab03-405b-c2fd-13370fdb85bf"
      },
      "execution_count": 47,
      "outputs": [
        {
          "output_type": "stream",
          "name": "stdout",
          "text": [
            "\u001b[1m1/1\u001b[0m \u001b[32m━━━━━━━━━━━━━━━━━━━━\u001b[0m\u001b[37m\u001b[0m \u001b[1m0s\u001b[0m 35ms/step\n",
            "Prediction is: 5\n"
          ]
        },
        {
          "output_type": "display_data",
          "data": {
            "text/plain": [
              "<Figure size 640x480 with 1 Axes>"
            ],
            "image/png": "[encoded data removed]"
          },
          "metadata": {}
        }
      ]
    },
    {
      "cell_type": "code",
      "source": [
        "## variables are adjustable and then our model will perform better IA\n",
        "#so we are going to adjust hyper parameters"
      ],
      "metadata": {
        "id": "MI_EDkMG7RvF"
      },
      "execution_count": null,
      "outputs": []
    }
  ]
}